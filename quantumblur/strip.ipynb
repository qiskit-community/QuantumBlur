{
 "cells": [
  {
   "cell_type": "code",
   "execution_count": 1,
   "metadata": {},
   "outputs": [],
   "source": [
    "from quantumblur import *\n",
    "import quantumblur as qb\n",
    "import numpy as np"
   ]
  },
  {
   "cell_type": "code",
   "execution_count": 2,
   "metadata": {},
   "outputs": [],
   "source": [
    "height = 8\n",
    "width = 32\n",
    "\n",
    "offsets = []\n",
    "for j in range(width):\n",
    "    offsets.append(int(4*(1+np.sin(j*np.pi/12))))\n",
    "grid, n, = make_strip(offsets,height,rotate=True)"
   ]
  },
  {
   "cell_type": "code",
   "execution_count": 3,
   "metadata": {},
   "outputs": [
    {
     "data": {
      "image/jpeg": "[encoded data removed]",
      "image/png": "[encoded data removed]",
      "text/plain": [
       "<PIL.Image.Image image mode=L size=512x256>"
      ]
     },
     "execution_count": 3,
     "metadata": {},
     "output_type": "execute_result"
    }
   ],
   "source": [
    "height = {}\n",
    "for _, pos in grid.items():\n",
    "    height[pos] = 0\n",
    "height[grid['0'*n]] = 1\n",
    "height[grid['1'*n]] = 1\n",
    "\n",
    "qc = height2circuit(height,grid=grid)\n",
    "for q in range(n):\n",
    "    qc.ry(0.5*3.14,q)\n",
    "\n",
    "height = circuit2height(qc,grid=grid)\n",
    "\n",
    "img = height2image(height)\n",
    "img.resize((512,int(512*img.size[1]/img.size[0])),0)"
   ]
  },
  {
   "cell_type": "code",
   "execution_count": null,
   "metadata": {},
   "outputs": [],
   "source": [
    "def apply_blur(height, points, radius, strength, rotate=False):\n",
    "    \"\"\"\n",
    "    Applies Quantum Blur to a heighmap on a region defined by a radius\n",
    "    and a set of points.\n",
    "\n",
    "    Args:\n",
    "        height (dict): A dictionary in which keys are coordinates\n",
    "            for points on a grid, and the values are positive numbers\n",
    "            from 0 to 1.\n",
    "        points (list): a list of coordinates from the height map.\n",
    "        radius (int): width (or height) of the strips formed between\n",
    "            successive pairs of points, on which Quantum Blur is\n",
    "            applied.\n",
    "        strength (float): strength of the effect between 0 and 1\n",
    "        rotate (bool): By default, strips have a fixed width. For\n",
    "            rotate=True, they will instead have a fixed height.\n",
    "\n",
    "    Returns:\n",
    "        height (dict): A modifed height map.\n",
    "    \"\"\"\n",
    "\n",
    "    for j in range(len(points)-1):\n",
    "        \n",
    "        width = abs(points[j][0] - points[j+1][0])\n",
    "        height = abs(points[j][1] - points[j+1][1])\n",
    "        if rotate:\n",
    "            width, height = height, width\n",
    "\n",
    "\n",
    "    new_height = height.copy()\n",
    "\n",
    "    new_height[0] = 1\n",
    "\n",
    "    return new_height"
   ]
  },
  {
   "cell_type": "code",
   "execution_count": null,
   "metadata": {},
   "outputs": [],
   "source": []
  }
 ],
 "metadata": {
  "kernelspec": {
   "display_name": ".venv",
   "language": "python",
   "name": "python3"
  },
  "language_info": {
   "codemirror_mode": {
    "name": "ipython",
    "version": 3
   },
   "file_extension": ".py",
   "mimetype": "text/x-python",
   "name": "python",
   "nbconvert_exporter": "python",
   "pygments_lexer": "ipython3",
   "version": "3.13.0"
  }
 },
 "nbformat": 4,
 "nbformat_minor": 2
}
